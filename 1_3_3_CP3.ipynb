{
  "nbformat": 4,
  "nbformat_minor": 0,
  "metadata": {
    "colab": {
      "name": "1.3.3_CP3.ipynb",
      "provenance": [],
      "collapsed_sections": [],
      "toc_visible": true,
      "include_colab_link": true
    },
    "kernelspec": {
      "name": "python3",
      "display_name": "Python 3"
    },
    "language_info": {
      "name": "python"
    }
  },
  "cells": [
    {
      "cell_type": "markdown",
      "metadata": {
        "id": "view-in-github",
        "colab_type": "text"
      },
      "source": [
        "<a href=\"https://colab.research.google.com/github/ledduy610/UIT-ALGO-BOOTCAMP/blob/main/1_3_3_CP3.ipynb\" target=\"_parent\"><img src=\"https://colab.research.google.com/assets/colab-badge.svg\" alt=\"Open In Colab\"/></a>"
      ]
    },
    {
      "cell_type": "markdown",
      "metadata": {
        "id": "8o82xeXNS20h"
      },
      "source": [
        "#UVa 11172 - Relational Operators\n"
      ]
    },
    {
      "cell_type": "markdown",
      "metadata": {
        "id": "tTjCg51ZTA-g"
      },
      "source": [
        "##Tóm tắt đề bài"
      ]
    },
    {
      "cell_type": "markdown",
      "metadata": {
        "id": "8aC8EQGSTEQA"
      },
      "source": [
        "Nguồn: https://onlinejudge.org/index.php?option=com_onlinejudge&Itemid=8&page=show_problem&problem=2113\n",
        "\n",
        "Cho t ($t \\leq 15$) bộ dữ liệu. Mỗi bộ gồm 2 số $-10^9 \\leq a, b \\leq 10^9$. Nếu $a > b$ thì in ra '>', $b > a$ thì '<', $a = b$ thì '='\n",
        "\n",
        "Input\n",
        "\n",
        "Dòng đầu tiên nhập số nguyên t (số bộ dữ liệu)\n",
        "\n",
        "Trong t dòng tiếp theo nhập vào 2 số nguyên a và b\n",
        "\n",
        "Output\n",
        "\n",
        "Nếu $a > b$ thì in ra '>', $b > a$ thì '<', $a = b$ thì '='\n",
        "\n",
        "    input:\n",
        "\n",
        "3\n",
        "\n",
        "10 20\n",
        "\n",
        "20 10\n",
        "\n",
        "10 10\n",
        "\n",
        "    output:\n",
        "\n",
        "$<$\n",
        "\n",
        "$>$\n",
        "\n",
        "$=$\n",
        "\n"
      ]
    },
    {
      "cell_type": "markdown",
      "metadata": {
        "id": "3HqRtJR1Ujb_"
      },
      "source": [
        "##Cách làm"
      ]
    },
    {
      "cell_type": "markdown",
      "metadata": {
        "id": "2Y0PBKI0UtAV"
      },
      "source": [
        "Dễ òm không cần bày =))))"
      ]
    },
    {
      "cell_type": "markdown",
      "metadata": {
        "id": "OtraYXLkUzVx"
      },
      "source": [
        "##Code"
      ]
    },
    {
      "cell_type": "markdown",
      "metadata": {
        "id": "G0ZdgV76U-kz"
      },
      "source": [
        "C++"
      ]
    },
    {
      "cell_type": "code",
      "metadata": {
        "id": "m_b4IF7HU1jF"
      },
      "source": [
        "#include<bits/stdc++.h>\n",
        "using namespace std;\n",
        "\n",
        "int main(){\n",
        "\tios_base::sync_with_stdio(false); cin.tie(0);\n",
        "\tint t;\n",
        "\tcin >> t;\n",
        "\tfor(int i = 1; i <= t; i++){\n",
        "\t\tint a, b;\n",
        "\t\tcin >> a >> b;\n",
        "\t\tif(a < b){\n",
        "\t\t\tcout << '<';\n",
        "\t\t}\n",
        "\t\telse if(a > b){\n",
        "\t\t\tcout << '>';\n",
        "\t\t}\n",
        "\t\telse cout << '=';\n",
        "\t\tcout << '\\n';\n",
        "\t}\n",
        "\n",
        "}"
      ],
      "execution_count": null,
      "outputs": []
    },
    {
      "cell_type": "markdown",
      "metadata": {
        "id": "waVQ0No-U_nF"
      },
      "source": [
        "Python"
      ]
    },
    {
      "cell_type": "code",
      "metadata": {
        "id": "hSh_MkDFU9eb"
      },
      "source": [
        "t = int(input())\n",
        "for i in range(1,t+1) :\n",
        "  a, b = map(int, input().split())\n",
        "  if a < b :\n",
        "    print(\"<\") \n",
        "  elif a > b :\n",
        "    print(\">\")\n",
        "  else : \n",
        "    print(\"=\")"
      ],
      "execution_count": null,
      "outputs": []
    },
    {
      "cell_type": "markdown",
      "metadata": {
        "id": "3MzUaRI-VTee"
      },
      "source": [
        "#UVa 11498 - Division of Nlogonia"
      ]
    },
    {
      "cell_type": "markdown",
      "metadata": {
        "id": "20M0VzPDVWUF"
      },
      "source": [
        "##Tóm tắt đề bài"
      ]
    },
    {
      "cell_type": "markdown",
      "metadata": {
        "id": "_8HlTZfoVZd_"
      },
      "source": [
        "Nguồn: https://onlinejudge.org/index.php?option=onlinejudge&Itemid=8&page=show_problem&problem=2493\n",
        "\n",
        "Cho 1 điểm, với mỗi điểm còn lại hỏi nằm ở hướng nào so với điểm đã cho. Nếu nằm ở trục thì in ra \"divisa\", ở góc phần tư thứ nhất thì \"NE\", thứ 2 thì \"NO\", thứ 3 thì \"SO\", thứ 4 thì \"SE\". Dữ liệu nhập vào gồm một số bộ dữ liệu, kết thúc bởi số 0.\n",
        "\n",
        "Input\n",
        "\n",
        "Gồm một số bộ dữ liệu. Mỗi bộ dữ liệu gồm:\n",
        "\n",
        "- Dòng đầu tiên nhập vào số nguyên n (số điểm)\n",
        "- Dòng tiếp theo nhập vào 2 số X, Y (tọa độ để xét)\n",
        "- Trong n dòng tiếp theo nhập vào 2 số $x_i$ và $y_i$ (tọa độ điểm so sánh)\n",
        "\n",
        "Bộ dữ liệu kết thúc bằng số 0\n",
        "\n",
        "Output\n",
        "\n",
        "Nếu nằm ở trục thì in ra \"divisa\", ở góc phần tư thứ nhất thì \"NE\", thứ 2 thì \"NO\", thứ 3 thì \"SO\", thứ 4 thì \"SE\".\n",
        "\n",
        "    input\n",
        "\n",
        "3\n",
        "\n",
        "2 1\n",
        "\n",
        "10 10\n",
        "\n",
        "-10 1\n",
        "\n",
        "0 33\n",
        "\n",
        "4\n",
        "\n",
        "-1000 -1000\n",
        "\n",
        "-1000 -1000\n",
        "\n",
        "0 0\n",
        "\n",
        "-2000 -10000\n",
        "\n",
        "-999 -1001\n",
        "\n",
        "0\n",
        "\n",
        "    output\n",
        "\n",
        "NE\n",
        "\n",
        "divisa\n",
        "\n",
        "NO\n",
        "\n",
        "divisa\n",
        "\n",
        "NE\n",
        "\n",
        "SO\n",
        "\n",
        "SE\n"
      ]
    },
    {
      "cell_type": "markdown",
      "metadata": {
        "id": "9Hf25CwPXDBy"
      },
      "source": [
        "##Cách làm"
      ]
    },
    {
      "cell_type": "markdown",
      "metadata": {
        "id": "tTXDnq8SXE3Y"
      },
      "source": [
        "Tịnh tiến tọa độ về (0, 0) để dễ nhận biêt, sau đó chỉ cần so sánh để đưa ra đáp án. Độ phức tạp tuyến tính"
      ]
    },
    {
      "cell_type": "markdown",
      "metadata": {
        "id": "FhlJNG-FXVn_"
      },
      "source": [
        "##Code"
      ]
    },
    {
      "cell_type": "markdown",
      "metadata": {
        "id": "3BoP-xfMXXHv"
      },
      "source": [
        "C++"
      ]
    },
    {
      "cell_type": "code",
      "metadata": {
        "id": "hpIPX8MqXYGe"
      },
      "source": [
        "#include<bits/stdc++.h>\n",
        "using namespace std;\n",
        "\n",
        "int main(){\n",
        "\tios_base::sync_with_stdio(false); cin.tie(0);\n",
        "\t\n",
        "\tint k, m, n, x, y;\n",
        "\twhile(1){\n",
        "\t\tcin >> k;\n",
        "\t\tif(!k) break;\n",
        "\t\tcin >> m >> n;\n",
        "\t\tfor(int i = 1; i <= k; i++){\n",
        "\t\t\tcin >> x >> y;\n",
        "\t\t\tx -= m;\n",
        "\t\t\ty -= n;\n",
        "\n",
        "\t\t\tif(x == 0 || y == 0){\n",
        "\t\t\t\tcout << \"divisa\";\n",
        "\t\t\t}\n",
        "\t\t\telse if(x > 0 && y > 0){\n",
        "\t\t\t\tcout << \"NE\";\n",
        "\t\t\t}\n",
        "\t\t\telse if(x < 0 && y > 0){\n",
        "\t\t\t\tcout << \"NO\";\n",
        "\t\t\t}\n",
        "\t\t\telse if(x < 0 && y < 0){\n",
        "\t\t\t\tcout << \"SO\";\n",
        "\t\t\t}\n",
        "\t\t\telse cout << \"SE\";\n",
        "\t\t\tcout << '\\n';\n",
        "\t\t}\n",
        "\t}\n",
        "}"
      ],
      "execution_count": null,
      "outputs": []
    },
    {
      "cell_type": "markdown",
      "metadata": {
        "id": "CS1RoQ3aXb4X"
      },
      "source": [
        "Python"
      ]
    },
    {
      "cell_type": "code",
      "metadata": {
        "id": "koBJolIqXdHO"
      },
      "source": [
        "while True:\n",
        "\tk = int(input())\n",
        "\tif k == 0:\n",
        "\t\tbreak\n",
        "\tm,n = map(int,input().split())\n",
        "\tfor i in range (k-):\n",
        "\t\tx,y = map(int,input().split())\n",
        "\t\tx = x - m\n",
        "\t\ty = y - n\n",
        "\n",
        "\t\tif x == 0 or y == 0:\n",
        "\t\t\tprint(\"divisa\")\n",
        "\t\telif x > 0 and y > 0:\n",
        "\t\t\tprint(\"NE\")\n",
        "\t\telif x < 0 and y > 0:\n",
        "\t\t\tprint(\"NO\")\n",
        "\t\telif x < 0 and y < 0:\n",
        "\t\t\tprint(\"SO\")\n",
        "\t\telse:\n",
        "\t\t\tprint(\"SE\")\n",
        "\t\tprint(\"\\n\")"
      ],
      "execution_count": null,
      "outputs": []
    },
    {
      "cell_type": "markdown",
      "metadata": {
        "id": "etQY2mSKXjWS"
      },
      "source": [
        "#UVa 11727 - Cost Cutting"
      ]
    },
    {
      "cell_type": "markdown",
      "metadata": {
        "id": "CT92ocRZXtWi"
      },
      "source": [
        "##Tóm tắt đề bài"
      ]
    },
    {
      "cell_type": "markdown",
      "metadata": {
        "id": "3lBFtBhfXvPS"
      },
      "source": [
        "Nguồn: https://onlinejudge.org/index.php?option=com_onlinejudge&Itemid=8&category=24&page=show_problem&problem=2827\n",
        "\n",
        "Dữ liệu gồm t bộ dữ liệu ($1 \\leq t \\leq 20$). Mỗi bộ dữ liệu gồm 3 số, tìm phần tử trung vị\n",
        "\n",
        "Input\n",
        "\n",
        "Dòng đầu tiên nhập vào số nguyên t (số bộ dữ liệu)\n",
        "\n",
        "Trong t dòng tiếp theo, mỗi dòng nhập 3 số nguyên a, b, c (các giá trị cần xét)\n",
        "\n",
        "Output\n",
        "\n",
        "Đưa ra phần tử trung vị\n",
        "\n",
        "\n",
        "    input\n",
        "\n",
        "3\n",
        "\n",
        "1000 2000 3000\n",
        "\n",
        "3000 2500 1500\n",
        "\n",
        "1500 1200 1800\n",
        "\n",
        "    output\n",
        "\n",
        "Case 1: 2000\n",
        "\n",
        "Case 2: 2500\n",
        "\n",
        "Case 3: 1500"
      ]
    },
    {
      "cell_type": "markdown",
      "metadata": {
        "id": "TNW-h9j0YJ5b"
      },
      "source": [
        "##Cách làm"
      ]
    },
    {
      "cell_type": "markdown",
      "metadata": {
        "id": "QdBLIJJEYLm6"
      },
      "source": [
        "Dùng 3 lần $if$ để so sánh và đưa ra kết quả. Hoặc với C++ thì có std::sort sau đó in ra phần tử ở giữa."
      ]
    },
    {
      "cell_type": "markdown",
      "metadata": {
        "id": "ZxJwLT5FZImO"
      },
      "source": [
        "##Code"
      ]
    },
    {
      "cell_type": "markdown",
      "metadata": {
        "id": "GcIx6lnBYs1o"
      },
      "source": [
        "C++"
      ]
    },
    {
      "cell_type": "code",
      "metadata": {
        "id": "BPyv1zRLYuIv"
      },
      "source": [
        "#include<bits/stdc++.h>\n",
        "using namespace std;\n",
        "\n",
        "int main(){\n",
        "\tios_base::sync_with_stdio(false); cin.tie(0);\n",
        "\tint t;\n",
        "\tint a[5];\n",
        "\tcin >> t;\n",
        "\tfor(int test = 1; test <= t; test++){\n",
        "\t\tfor(int i = 1; i <= 3; i++){\n",
        "\t\t\tcin >> a[i];\n",
        "\t\t}\n",
        "\t\tsort(a + 1, a + 3 + 1);\n",
        "\t\tcout << \"Case \" << test << \": \" << a[2] << '\\n';\n",
        "\t}\n",
        "\t\n",
        "}"
      ],
      "execution_count": null,
      "outputs": []
    },
    {
      "cell_type": "markdown",
      "metadata": {
        "id": "traMXhV5YzEi"
      },
      "source": [
        "Python"
      ]
    },
    {
      "cell_type": "code",
      "metadata": {
        "id": "E94MTwOyY0EB"
      },
      "source": [
        "t = int(input())\n",
        "for i in range(t):\n",
        "\ta= [None]*5\n",
        "\ta = [int(num) for num in input().split()]\n",
        "\ta.sort()\n",
        "\tprint(\"Case \",i+1,\": \",a[1],\"\\n\")"
      ],
      "execution_count": null,
      "outputs": []
    },
    {
      "cell_type": "markdown",
      "metadata": {
        "id": "LuDZ3nfNY72C"
      },
      "source": [
        "#UVa 10114 - Loansome Car Buyer"
      ]
    },
    {
      "cell_type": "markdown",
      "metadata": {
        "id": "uuqyXuU_ZLMS"
      },
      "source": [
        "##Tóm tắt đề bài"
      ]
    },
    {
      "cell_type": "markdown",
      "metadata": {
        "id": "7D2wOKSGZN8N"
      },
      "source": [
        "Nguồn: https://onlinejudge.org/index.php?option=onlinejudge&Itemid=8&page=show_problem&problem=1055\n",
        "\n",
        "Vay tiền để mua một chiếc ô tô\n",
        "\n",
        "Cho\n",
        "- Month: thời hạn vay\n",
        "- DownPayment: Khoản trả trước\n",
        "loan: số tiền vay để mua ô tô (giá ô tô bằng khoản trả trước + tiền vay)\n",
        "- d[i] (I <= n): % khấu hao giá của ô tô của tháng d[i], nếu tháng nào không được liệt kê thì bằng tháng trước đó\n",
        "\n",
        "Số tháng ít nhất để giá trị chiếc xe không bé khoản vay. Chú ý số nhiều dùng \"months\", còn số ít thì dùng \"month\"\n",
        "\n",
        "Input\n",
        "\n",
        "Gồm nhiều bộ dữ liệu. Mỗi bộ dữ liệu\n",
        "\n",
        "Dòng đầu tiên nhập vào 4 số: Month, DownPayment, loan, n (thời hạn vay, khoản trả trước, số tiền nợ, số lần thay đổi khấu trừ).\n",
        "\n",
        "n dòng sau đó, mỗi dòng gồm 2 số, số đầu là tháng, số sau là giá trị khấu trừ\n",
        "\n",
        "Output\n",
        "\n",
        "Số tháng cần tìm. Nếu số tháng là số ít thì \"month\", còn số tháng là số nhiều thì \"months\". Ví dụ 1 tháng là \"1 month\", 2 tháng là \"2 months\"\n",
        "\n",
        "    input\n",
        "30 500.0 15000.0 3\n",
        "\n",
        "0 .10\n",
        "\n",
        "1 .03\n",
        "\n",
        "3 .002\n",
        "\n",
        "12 500.0 9999.99 2\n",
        "\n",
        "0 .05\n",
        "\n",
        "2 .1\n",
        "\n",
        "60 2400.0 30000.0 3\n",
        "\n",
        "0 .2\n",
        "\n",
        "1 .05\n",
        "\n",
        "12 .025\n",
        "\n",
        "-99 0 17000 1\n",
        "\n",
        "    output\n",
        "4 months\n",
        "\n",
        "1 month\n",
        "\n",
        "49 months"
      ]
    },
    {
      "cell_type": "markdown",
      "metadata": {
        "id": "21vrjlhXaSr9"
      },
      "source": [
        "##Cách làm"
      ]
    },
    {
      "cell_type": "markdown",
      "metadata": {
        "id": "inu-p8ReaUJy"
      },
      "source": [
        "- Bài này ta dùng duyệt bình thường.\n",
        "\n",
        "- Dùng một mảng để tính trước khấu trừ của mấy tháng sau đó\n",
        "Tính tiền phải trả cho mỗi tháng (monthlyPayment) bằng cách lấy số tiền vay chia cho số tháng\n",
        "\n",
        "- Sau mỗi tháng thì số tiền của khoản vay sẽ bị giảm đi monthlyPayment và giá trị chiếc xe sau mỗi tháng cũng giảm một khoản mà đề bài đã nêu. Khi số giá trị chiếc xe không còn nhỏ hơn khoản nợ nữa thì in ra số tháng.  \n",
        "\n",
        "- Bài này trong trường hợp tệ nhất thì dpt cho mỗi test sẽ là O(100 *100) vì khởi tạo mảng khấu trừ.\n",
        "\n",
        "Chú ý: Số 0 là số nhiều trong tiếng Anh, vì vậy ta dùng \"0 months\"\n"
      ]
    },
    {
      "cell_type": "markdown",
      "metadata": {
        "id": "UQ0IIcgQb_li"
      },
      "source": [
        "##Code"
      ]
    },
    {
      "cell_type": "markdown",
      "metadata": {
        "id": "320qvqUKcIS0"
      },
      "source": [
        "C++"
      ]
    },
    {
      "cell_type": "code",
      "metadata": {
        "id": "trA55QNacBHY"
      },
      "source": [
        "#include <bits/stdc++.h>\n",
        "using namespace std;\n",
        "\n",
        "int main() {\n",
        "\tios_base::sync_with_stdio(false); cin.tie(0);\n",
        "\n",
        "\tint month, n;\n",
        "\tdouble downPayment, loan, d[105];\n",
        "\n",
        "\twhile (true) {\n",
        "\t\tcin >> month >> downPayment >> loan >> n;\n",
        "\t\tif (month < 0)\n",
        "\t\t\tbreak;\n",
        "\n",
        "\t\tint m;\n",
        "\t\tdouble p;\n",
        "\t\twhile (n--) {\n",
        "\t\t\tcin >> m >> p;\n",
        "\t\t\tfor (int i = m; i <= 100; i++)\n",
        "\t\t\t\td[i] = p;\n",
        "\t\t}\n",
        "\n",
        "\t\tint now = 0;\n",
        "\t\tdouble monthlyPayment = loan / month;\n",
        "\t\tdouble val = (loan + downPayment) * (1 - d[0]);\n",
        "\t\twhile (val < loan) {\n",
        "\t\t\tnow++;\n",
        "\t\t\tloan -= monthlyPayment;\n",
        "\t\t\tval = val * (1 - d[now]);\n",
        "\t\t}\n",
        "\n",
        "\t\tcout << now;\n",
        "\t\tif(now != 1) cout << \" months\";\n",
        "\t\telse cout << \" month\";\n",
        "\t\tcout << '\\n';\n",
        "\t}\n",
        "}"
      ],
      "execution_count": null,
      "outputs": []
    },
    {
      "cell_type": "markdown",
      "metadata": {
        "id": "gG6mB3s0cJb7"
      },
      "source": [
        "Python"
      ]
    },
    {
      "cell_type": "code",
      "metadata": {
        "id": "jLwu2rZtcQZb"
      },
      "source": [
        "d = [None] * 105\n",
        "while True :\n",
        "  month, downPayment, loan, n= input().split()\n",
        "  month = int(month)\n",
        "  if month < 0:\n",
        "    break \n",
        "  n = int(n) \n",
        "  downPayment = float(downPayment)\n",
        "  loan = float(loan)\n",
        "  a = []\n",
        "  while True :\n",
        "    if n == 0 :\n",
        "      break\n",
        "    n = n - 1\n",
        "    m, p = input().split()\n",
        "    m = int(m) \n",
        "    p = float(p)\n",
        "    for i in range(m,101) :\n",
        "      d[i] = p\n",
        "  now = 0\n",
        "  monthlyPayment = loan / month\n",
        "  val = (loan + downPayment)* (1-d[0])\n",
        "  while (val < loan) :\n",
        "    now += 1\n",
        "    loan -= monthlyPayment\n",
        "    val = val * (1-d[now]) \n",
        "  if now > 1 :\n",
        "    print(now,\"months\")\n",
        "  elif now == 0 :\n",
        "    print(now,\"months\")\n",
        "  else :\n",
        "    print(now,\"month\")"
      ],
      "execution_count": null,
      "outputs": []
    },
    {
      "cell_type": "markdown",
      "metadata": {
        "id": "O3PYqmzGcSIl"
      },
      "source": [
        "#UVa 11559 - Event Planning"
      ]
    },
    {
      "cell_type": "markdown",
      "metadata": {
        "id": "fl4X7HshcVtE"
      },
      "source": [
        "##Tóm tắt đề bài"
      ]
    },
    {
      "cell_type": "markdown",
      "metadata": {
        "id": "SUq14GVYcYGz"
      },
      "source": [
        "Nguồn: https://onlinejudge.org/index.php?option=onlinejudge&Itemid=8&page=show_problem&problem=2595\n",
        "\n",
        "Đầu vào gồm một số bộ dữ liệu, mỗi bộ ta có\n",
        "\n",
        "Cho\n",
        "- N: số người\n",
        "- B: tổng số tiền\n",
        "- H: số khách sạn\n",
        "- W: số ngày nghỉ\n",
        "\n",
        "Với mỗi sách sạn có giá tiền p cho một người một ngày, và mỗi ngày nghỉ thì sẽ có số giường còn trống là a.\n",
        "\n",
        "Tìm chi phí tối thiểu để tât cả mọi người đều được ở chung một khách sạn ít nhất 1 ngày. Nếu không có phương án phù hợp in ra “stay home”.\n",
        "\n",
        "Input\n",
        "\n",
        "Gồm một số bộ dữ liệu, mỗi bộ dữ liệu gồm:\n",
        "\n",
        "- Dòng đầu tiên nhập 4 số N, B, H, W (số người, tổng số tiền, số khách sạn, số ngày nghỉ)\n",
        "- Mỗi 2 dòng trong $2 \\times H$ dòng tiép theo, dòng thứ nhất nhập vào p (giá tiền cho một người), dòng thứ 2 nhập vào W giá trị a (số giường trống ở ngày thứ j trong W ngày)\n",
        "\n",
        "Output\n",
        "\n",
        "Với mỗi bộ dữ liệu đưa ra giá tiền nhỏ nhất, nếu không có kể quả thì đưa ra \"stay home\"\n",
        "\n",
        "    input\n",
        "3 1000 2 3\n",
        "\n",
        "200\n",
        "\n",
        "0 2 2\n",
        "\n",
        "300\n",
        "\n",
        "27 3 20\n",
        "\n",
        "5 2000 2 4\n",
        "\n",
        "300\n",
        "\n",
        "4 3 0 4\n",
        "\n",
        "450\n",
        "\n",
        "7 8 0 13\n",
        "\n",
        "    output\n",
        "900\n",
        "\n",
        "stay home\n"
      ]
    },
    {
      "cell_type": "markdown",
      "metadata": {
        "id": "4sC9QWdydA-w"
      },
      "source": [
        "##Cách làm"
      ]
    },
    {
      "cell_type": "markdown",
      "metadata": {
        "id": "Q9BegPFAdC_g"
      },
      "source": [
        "Với mỗi khách sạn nếu có 1 ngày mà số giường trống đủ cho N người thì ta minize chi phí. Nếu chi phí lớn hơn ngân sách thì “stay home”. Ngược lại in ra chi phí. Độ phức tạp tuyến tính"
      ]
    },
    {
      "cell_type": "markdown",
      "metadata": {
        "id": "ftLiZQ0GdMFj"
      },
      "source": [
        "##Code"
      ]
    },
    {
      "cell_type": "markdown",
      "metadata": {
        "id": "vUPdF7ZbdO9l"
      },
      "source": [
        "C++"
      ]
    },
    {
      "cell_type": "code",
      "metadata": {
        "id": "62nTcmYgdNsY"
      },
      "source": [
        "#include<bits/stdc++.h>\n",
        "using namespace std;\n",
        "\n",
        "int main(){\n",
        "\tios_base::sync_with_stdio(false); cin.tie(0);\n",
        "\t//freopen(\"test.txt\", \"r\", stdin);\n",
        "\tint N, B, H, W;\n",
        "    while (cin >> N >> B >> H >> W){\n",
        "        int res = B + 1;\n",
        "        for (int h = 0; h < H; h++){\n",
        "            int p;\n",
        "            cin >> p;\n",
        "            for (int w = 0; w < W; w++){\n",
        "                int a;\n",
        "                cin >> a;\n",
        "                if (a >= N && p * N <= res)\n",
        "                    res = p * N;\n",
        "            }\n",
        "        }\n",
        "        if (res <= B)\n",
        "            cout << res << endl;\n",
        "        else\n",
        "            cout << \"stay home\" << endl;\n",
        "    }\n",
        "\t\n",
        "}"
      ],
      "execution_count": null,
      "outputs": []
    },
    {
      "cell_type": "markdown",
      "metadata": {
        "id": "7NlxAv6WdQqN"
      },
      "source": [
        "Python"
      ]
    },
    {
      "cell_type": "code",
      "metadata": {
        "id": "GYOVZffadbwI"
      },
      "source": [
        "while True:\n",
        "\tN,B,H,W = list(map(int,input().split()))\n",
        "\tres = B + 1\n",
        "\tfor h in range (H):\n",
        "\t\tp = int(input())\n",
        "\t\tfor w in range (W):\n",
        "\t\t\ta = int(input())\n",
        "\t\t\tif a >= N and p*N <= res :\n",
        "\t\t\t\tres = p*N\n",
        "\tif res <= B:\n",
        "\t\tprint(res)\n",
        "\telse:\n",
        "\t\tprint(\"stay home\")"
      ],
      "execution_count": null,
      "outputs": []
    },
    {
      "cell_type": "markdown",
      "metadata": {
        "id": "euwNEsaqdfRB"
      },
      "source": [
        "#UVa 11799 - Horror Dash"
      ]
    },
    {
      "cell_type": "markdown",
      "metadata": {
        "id": "swAKrcDGdl8W"
      },
      "source": [
        "##Tóm tắt đề bài"
      ]
    },
    {
      "cell_type": "markdown",
      "metadata": {
        "id": "z8_HEpvsdqnE"
      },
      "source": [
        "Nguồn: https://onlinejudge.org/index.php?option=onlinejudge&Itemid=8&page=show_problem&problem=2899\n",
        "\n",
        "Một chú hề bị đuổi bởi N học sinh trên một đường thẳng. Cho biết tốc độ của mỗi học sinh, hỏi tốc độ nhỏ nhất của chú hề là bao nhiêu để không bị bắt nếu bọn họ cứ chạy mãi mãi?\n",
        "\n",
        "Input\n",
        "\n",
        "Dòng đầu tiên cho số test cases T. Mỗi test case, đứng đầu tiên là số N là số học sinh, dãy sau chứa N giá trị của vận tốc mỗi học sinh.\n",
        "\n",
        "Output\n",
        "\n",
        "Xuất ra T dòng, mỗi dòng được định dạng bởi \"Case c: s\". c là số thứ tự của test case, s là giá trị vận tốc nhỏ nhất mà chú hề đạt được để không bị bắt trong trường hợp đó. \n",
        "\n",
        "    Sample Input\n",
        "\n",
        "2\n",
        "\n",
        "5 9 3 5 2 6\n",
        "\n",
        "1 2\n",
        "\n",
        "    Sample Output\n",
        "\n",
        "Case 1: 9\n",
        "\n",
        "Case 2: 2\n"
      ]
    },
    {
      "cell_type": "markdown",
      "metadata": {
        "id": "hPoKubrWd7pJ"
      },
      "source": [
        "##Cách làm"
      ]
    },
    {
      "cell_type": "markdown",
      "metadata": {
        "id": "9_fUgAxSd-sk"
      },
      "source": [
        "Bài toán đơn giản là tìm giá trị lớn nhất trong mảng. Độ phức tạp tuyến tính"
      ]
    },
    {
      "cell_type": "markdown",
      "metadata": {
        "id": "IxDFG1v6eM_g"
      },
      "source": [
        "##Code"
      ]
    },
    {
      "cell_type": "markdown",
      "metadata": {
        "id": "9emuxlqzeOeS"
      },
      "source": [
        "C++"
      ]
    },
    {
      "cell_type": "code",
      "metadata": {
        "id": "eHdqt5sMeQsf"
      },
      "source": [
        "#include <bits/stdc++.h>\n",
        "\n",
        "using namespace std;\n",
        "int main() {\n",
        "\tint t, n, Case = 0;\n",
        "\tcin >> t;\n",
        "\twhile(t--) {\n",
        "\t\tcin >> n;\n",
        "\t\tint max = 0, c;\n",
        "\t\twhile(n--) {\n",
        "\t\t\tcin >> c;\n",
        "\t\t\tif(max < c)\n",
        "\t\t\t\tmax = c;\n",
        "\t\t}\n",
        "\t\tcout << \"Case \" << ++Case << \": \" << max << endl;\n",
        "\t}\n",
        "    return 0;\n",
        "}"
      ],
      "execution_count": null,
      "outputs": []
    },
    {
      "cell_type": "markdown",
      "metadata": {
        "id": "HJ_52SNveUFO"
      },
      "source": [
        "Python"
      ]
    },
    {
      "cell_type": "code",
      "metadata": {
        "id": "pwfr6s6geVAg"
      },
      "source": [
        "T = int(input())\n",
        "for _ in range(1,T+1):\n",
        "    L = list(map(int,input().split()))\n",
        "    L.sort()\n",
        "    L.reverse()\n",
        "    print('Case %d:' %_ ,L[0])"
      ],
      "execution_count": null,
      "outputs": []
    },
    {
      "cell_type": "markdown",
      "metadata": {
        "id": "BIRW_Fnfe-Uu"
      },
      "source": [
        "# UVa 573 - The Snail"
      ]
    },
    {
      "cell_type": "markdown",
      "metadata": {
        "id": "zGzguKDUe_iy"
      },
      "source": [
        "##Tóm tắt đề bài"
      ]
    },
    {
      "cell_type": "markdown",
      "metadata": {
        "id": "SBAD33cKfFUi"
      },
      "source": [
        "Nguồn: https://onlinejudge.org/index.php?option=onlinejudge&Itemid=8&page=show_problem&problem=514\n",
        "\n",
        "Có 1 con ốc sên nằm ở dưới đáy của 1 cái giếng có chiều cao là H (m).Ốc sên có thể bò lên U(m) khi trời sáng, nhưng sẽ bị tuột xuống D(m) vào buổi tối khi đi ngủ. Sau mỗi ngày, ốc sên sẽ bò ít hơn ngày đầu tiên F%, hỏi vào ngày thứ bao nhiêu thì ốc sên sẽ bò ra khỏi miệng giếng hoặc là rớt lại xuống đáy giếng.\n",
        "\n",
        "Input:\n",
        "\n",
        "File đầu vào bao gồm 1 hoặc nhiều test cases, mỗi test case sẽ nằm trên 1 dòng, bao gồm 4 số nguyên H,U,D,F cách nhau bởi khoảng trắng. Nếu H = 0, tức là kết thúc số test case.\n",
        "\n",
        "Lưu ý: Ốc sên sẽ không bao giờ bò 1 khoảng cách âm.Nếu ngày hôm đó ốc sên bò U < 0 thì tức là hôm đó nó đứng yên không di chuyển và chỉ bị tuột xuống vào buổi tối.\n",
        "\n",
        "Output:\n",
        "\n",
        "Với mỗi test case, xuất ra một dòng thông báo liệu ốc sên có thành công (ra khỏi miệng giếng) hay là thất bại (rớt xuống đáy).\n",
        "\n",
        "    Sample input:\n",
        "\n",
        "6 3 1 10\n",
        "\n",
        "10 2 1 50\n",
        "\n",
        "50 5 3 14\n",
        "\n",
        "1 1 1 1\n",
        "\n",
        "0 0 0 0\n",
        "\n",
        "    Output\n",
        "\n",
        "success on day 3\n",
        "\n",
        "failure on day 4\n",
        "\n",
        "failure on day 7\n",
        "\n",
        "failure on day 2"
      ]
    },
    {
      "cell_type": "markdown",
      "metadata": {
        "id": "JmfOPUFyfOgQ"
      },
      "source": [
        "##Cách làm"
      ]
    },
    {
      "cell_type": "markdown",
      "metadata": {
        "id": "RfnLucudfQfA"
      },
      "source": [
        "Chúng ta tính lại khoảng cách của con ốc sên với đáy giếng sau mỗi ngày, nếu khoảng cách lớn hơn chiều cao của giếng thì tức là con ốc sên thoát được khỏi miệng giếng, còn nếu khoảng cách bé hơn hoặc bằng không thì con ốc sên bị kẹt lại ở đáy giếng."
      ]
    },
    {
      "cell_type": "markdown",
      "metadata": {
        "id": "emhmpHk4faQM"
      },
      "source": [
        "##Code"
      ]
    },
    {
      "cell_type": "markdown",
      "metadata": {
        "id": "TbdIDhO-fbrG"
      },
      "source": [
        "C++"
      ]
    },
    {
      "cell_type": "code",
      "metadata": {
        "id": "KLH8sYMcfikx"
      },
      "source": [
        "#include <bits/stdc++.h>\n",
        "\n",
        "int main()\n",
        "{\n",
        "\tint H, D, F, dia;\n",
        "\tfloat U, alt, f;\n",
        "\n",
        "\twhile(1)\n",
        "\t{\n",
        "\t\tscanf(\"%d %f %d %d\", &H, &U, &D, &F);\n",
        "\t\tif(H == 0) break;\n",
        "\t\tdia = 1;\t\t\n",
        "\t\talt = 0;\n",
        "\t\tf = U*F/100;\n",
        "\t\twhile(1){\t\n",
        "\t\t\talt += U;\n",
        "\t\t\tif(U > 0)\n",
        "\t\t\t\tU -= f;\n",
        "\t\t\tif(alt > H) break;\t\t\t\n",
        "\t\t\talt -= D;\t\t\t\n",
        "\t\t\tif(alt < 0) break;\t\t\t\n",
        "\t\t\tdia++;\n",
        "\t\t}\n",
        "\t\tif(alt < 0)\n",
        "\t\t\tprintf(\"failure on day %d\\n\", dia);\n",
        "\t\telse\n",
        "\t\t\tprintf(\"success on day %d\\n\", dia);\n",
        "\t} \t\n",
        "\treturn 0;\n",
        "}"
      ],
      "execution_count": null,
      "outputs": []
    },
    {
      "cell_type": "markdown",
      "metadata": {
        "id": "OUi7HnHafjUL"
      },
      "source": [
        "Python"
      ]
    },
    {
      "cell_type": "code",
      "metadata": {
        "id": "6kfi-ut_fkc6"
      },
      "source": [
        "while True:\n",
        "\tH , U ,D ,F = list(map(int,input().split()))\n",
        "\n",
        "\tif H == 0:\n",
        "\t\tbreak\n",
        "\n",
        "\tday = 1\n",
        "\tdistance = 0\n",
        "\tu = F*U/100\n",
        "\n",
        "\twhile True :\n",
        "\t\tdistance += U\n",
        "\t\tif U > 0:\n",
        "\t\t\tU -= u\n",
        "\t\tif U < 0:\n",
        "\t\t\tU = 0\n",
        "\t\tif distance > H:\n",
        "\t\t\tbreak\n",
        "\t\telse:\n",
        "\t\t\tdistance -= D\n",
        "\t\tif distance < 0:\n",
        "\t\t\tbreak\n",
        "\t\telse:\n",
        "\t\t\tday += 1\n",
        "\n",
        "\tif(distance < 0):\n",
        "\t\tprint(\"failure on day {}\".format(day))\n",
        "\telse:\n",
        "\t\tprint(\"success on day {}\".format(day))"
      ],
      "execution_count": null,
      "outputs": []
    },
    {
      "cell_type": "markdown",
      "metadata": {
        "id": "qLo-FupwftVG"
      },
      "source": [
        "#UVA 10141: Request for proposal"
      ]
    },
    {
      "cell_type": "markdown",
      "metadata": {
        "id": "Xew2GPVRfv3I"
      },
      "source": [
        "##Tóm tắt đề bài"
      ]
    },
    {
      "cell_type": "markdown",
      "metadata": {
        "id": "CTQ1pgf7fyUo"
      },
      "source": [
        "Nguồn: https://onlinejudge.org/index.php?option=onlinejudge&page=show_problem&problem=1082\n",
        "\n",
        "Khi chính phủ có nhu cầu thực hiện một giao dịch mua lớn. Đầu tiên họ sẽ phát hành 1 danh sách liệt kê các yêu cầu cần thiết và các nhà cung ứng sẽ đề xuất danh sách những yêu cầu họ đáp ứng được kèm với mức giá tương ứng. Việc của bạn là chọn ra nhà cung ứng đáp ứng nhiều nhất số yêu cầu trong danh sách cùng với mức giá thấp nhất.\n",
        "\n",
        "việc đáp ứng yêu cầu được tính như sau:\n",
        "\n",
        "điểm = số yêu cầu đáp ứng được / tổng số yêu cầu có trong danh sách. \n",
        "\n",
        "lưu ý: nếu có 2 công ty có cùng số điểm thì công ty có mức giá thấp hơn sẽ được chọn, nếu cả 2 công ty đều cùng điểm và cùng mức giá thì công ty nào đứng trước sẽ được chọn.\n",
        "\n",
        "Input:\n",
        "\n",
        "dòng đầu bao gồm 2 số : 0 < n <= 1000 : số yêu cầu trong danh sách, p: số nhà cung ứng. Lưu ý là có thể có nhiều danh sách yêu cầu do đó dòng 0 0 sẽ kết thúc quá trình nhập danh sách.\n",
        "n dòng tiếp theo sẽ bao gồm các yêu cầu trong danh sách.\n",
        "trong mỗi p nhà cung ứng:\n",
        "1 dòng là tên nhà cung ứng\n",
        "1 dòng bao gồm d(float): mức giá và r:( 0 <= r <= n):số yêu cầu đáp ứng được.\n",
        "r dòng in ra yêu cầu đáp ứng được trên mỗi dòng.\n",
        "Output:\n",
        "\n",
        "In ra tên nhà cung ứng tốt nhất, để 1 dòng trống giữa các nhà cung ứng.\n",
        "\n",
        "    Sample Input\n",
        "\n",
        "6 4\n",
        "\n",
        "engine\n",
        "\n",
        "brakes\n",
        "\n",
        "tires\n",
        "\n",
        "ashtray\n",
        "\n",
        "vinyl roof\n",
        "\n",
        "trip computer\n",
        "\n",
        "Chevrolet\n",
        "\n",
        "20000.00 3\n",
        "\n",
        "engine\n",
        "\n",
        "tires\n",
        "\n",
        "brakes\n",
        "\n",
        "Cadillac\n",
        "\n",
        "70000.00 4\n",
        "\n",
        "ashtray\n",
        "\n",
        "vinyl roof\n",
        "\n",
        "trip computer\n",
        "\n",
        "engine\n",
        "\n",
        "Hyundai\n",
        "\n",
        "10000.00 3\n",
        "\n",
        "engine\n",
        "\n",
        "tires\n",
        "\n",
        "ashtray\n",
        "\n",
        "Lada\n",
        "\n",
        "6000.00 1\n",
        "\n",
        "tires\n",
        "\n",
        "1 1\n",
        "\n",
        "coffee\n",
        "\n",
        "Starbucks\n",
        "\n",
        "1.50 1\n",
        "\n",
        "coffee\n",
        "\n",
        "0 0\n",
        "\n",
        "    Sample Output\n",
        "\n",
        "RFP #1\n",
        "\n",
        "Cadillac\n",
        "\n",
        "RFP #2\n",
        "\n",
        "Starbucks"
      ]
    },
    {
      "cell_type": "markdown",
      "metadata": {
        "id": "8_q6vUyJf-Ml"
      },
      "source": [
        "##Cách làm"
      ]
    },
    {
      "cell_type": "markdown",
      "metadata": {
        "id": "2_yPsXPFgAVf"
      },
      "source": [
        "Để giải bài này chúng ta nên liên tục cập nhật 2 giá trị best_score và best_cost. Nếu 1 nhà cung ứng có score > best_score hoặc score = best_score nhưng cost < best_cost thì chúng ta sẽ lưu nhà cung ứng dó lại.Lưu ý là bạn không cần phải lưu lại tên các yêu cầu trong danh sách, chúng ta chỉ cần quan tâm đến r và n để tính lại best_score. Độ phức tạp tuyến tính"
      ]
    },
    {
      "cell_type": "markdown",
      "metadata": {
        "id": "xm5azsAfgRjm"
      },
      "source": [
        "##Code"
      ]
    },
    {
      "cell_type": "markdown",
      "metadata": {
        "id": "6iYrobzsgTmI"
      },
      "source": [
        "C++"
      ]
    },
    {
      "cell_type": "code",
      "metadata": {
        "id": "uC09a5ZkgUms"
      },
      "source": [
        "#include<bits/stdc++.h>\n",
        " \n",
        "using namespace std;\n",
        " \n",
        "int n, p, r;\n",
        "float d, best_compliance, best_cost;\n",
        "string line, name, best_name;\n",
        " \n",
        "int main() {\n",
        "    for(int T = 1;; T++) {\n",
        "        scanf(\"%d %d\\n\", &n, &p);\n",
        "        if(n == 0 && p == 0) break;\n",
        "        if(T > 1) cout << endl;\n",
        "        for(int i = 0; i < n; i++)\n",
        "            getline(cin, line);\n",
        "        best_compliance = 0.0;\n",
        "        best_cost = 1E37;\n",
        "        for(int i = 0; i < p; i++) {\n",
        "            getline(cin, name);\n",
        "            scanf(\"%f %d\\n\", &d, &r);\n",
        "            for(int i = 0; i < r; i++)\n",
        "                getline(cin, line);\n",
        "            if((float) r / p > best_compliance \\\n",
        "                    || (float) r / p == best_compliance && d < best_cost) {\n",
        "                best_compliance = (float) r / p;\n",
        "                best_cost = d;\n",
        "                best_name = name;\n",
        "            }\n",
        "        }\n",
        "        cout << \"RFP #\" << T << endl;\n",
        "        cout << best_name << endl;\n",
        "    }\n",
        "}"
      ],
      "execution_count": null,
      "outputs": []
    },
    {
      "cell_type": "markdown",
      "metadata": {
        "id": "A-m91V05gV15"
      },
      "source": [
        "Python"
      ]
    },
    {
      "cell_type": "code",
      "metadata": {
        "id": "e87yf_NzgXDe"
      },
      "source": [
        "count = 1\n",
        "\n",
        "while True:\n",
        " n ,p = list(map(int,input().split()))\n",
        " if n == 0 and p == 0:\n",
        "  break\n",
        " if count > 1:\n",
        "  print('\\n')\n",
        " for i in range (n):\n",
        "  val = input()\n",
        " best_score = 0.0\n",
        " best_cost = 1e37\n",
        " for i in range (p):\n",
        "  name = input()\n",
        "  d = float(input())\n",
        "  r = int(input())\n",
        "  for j in range (r):\n",
        "    val = input()\n",
        "    if r/p > best_score or r/p == best_score and d < best_cost:\n",
        "     best_score = r/p\n",
        "     best_cost = d\n",
        "     best_name = name\n",
        " count = count + 1\n",
        " print(\"RFP #\",count)\n",
        " print(\"\\n\")\n",
        " print(best_name)"
      ],
      "execution_count": null,
      "outputs": []
    },
    {
      "cell_type": "markdown",
      "metadata": {
        "id": "HMxwByFaga2p"
      },
      "source": [
        "#UVa 11507 - Bender B. Rodriguez"
      ]
    },
    {
      "cell_type": "markdown",
      "metadata": {
        "id": "r0yHzZSjgdtV"
      },
      "source": [
        "##Tóm tắt đề bài"
      ]
    },
    {
      "cell_type": "markdown",
      "metadata": {
        "id": "LtAr3C7rggMr"
      },
      "source": [
        "Nguồn: https://onlinejudge.org/index.php?option=onlinejudge&Itemid=8&page=show_problem&problem=2502\n",
        "\n",
        "Bender là một chú robot có nhiệm vụ bẻ cong một sợi dây kim loại có độ dài L (L là số nguyên >= 2). Bender tưởng tượng sợi dây như một đoạn thẳng được cố định 1 đầu tại tâm hệ tọa độ 3 chiều, và được đặt trên trục dương +x. Do đó ban đầu, một đầu của sợ dây có tọa độ cố định là (0, 0, 0) và đầu kia có tọa độ (L, 0, 0).\n",
        "\n",
        "Bender uốn cong sợi dây tại những điểm đặc biệt, bắt đầu tại điểm có tọa độ (L-1, 0, 0) và kết thúc tại điểm (1, 0, 0). Với mỗi bước i chạy từ L-1 đến 1, Bender có những lựa chọn sau:\n",
        "\n",
        "Không uốn cong tại điểm có tọa độ (i, 0, 0).\n",
        "\n",
        "Uốn cong tại điểm (i, 0, 0) một góc 90° theo hướng song song với các trục +y, -y, +z, -z.\n",
        "\n",
        "Cho một dãy các lệnh để nạp vào Bender. Hãy cho biết hướng đoạn thẳng cuối cùng của dây.\n",
        "\n",
        "Input:\n",
        "\n",
        "Dòng đầu tiên của mỗi test case cho biết độ dài dây kim loại L ( 2 <= L <= 10000). Gặp L = 0 thì dừng lại.\n",
        "\n",
        "Dòng thứ hai của mỗi test case chứa L - 1 câu lệnh điều khiển Bender làm việc. Mỗi câu lệnh thứ j-th sẽ đưa ra quyết định uốn cong tại điểm (L - j, 0, 0) như sau :\n",
        "\n",
        "\"No\" thì sợi dây không bị uốn tại (L - j, 0, 0).\n",
        "\n",
        "\"+y\", \"-y\", \"+z\", \"-z\" lần lược sẽ là các quyết định uốn cong sợi dây theo hướng +y, -y, +z, -z.\n",
        "\n",
        "Output:\n",
        "\n",
        "Đưa ra hướng của đoạn dây cuối cùng, ví dụ như +x, -x, +y, -y, +z, -z\n",
        "\n",
        "    Sample Input\n",
        "\n",
        "3\n",
        "\n",
        "+z -z\n",
        "\n",
        "3\n",
        "\n",
        "+z +y\n",
        "\n",
        "2\n",
        "\n",
        "+z\n",
        "\n",
        "4\n",
        "\n",
        "+z +y +z\n",
        "\n",
        "5\n",
        "\n",
        "No +z No No\n",
        "\n",
        "0\n",
        "\n",
        "    Sample Output\n",
        "\n",
        "+x\n",
        "\n",
        "+z\n",
        "\n",
        "+z\n",
        "\n",
        "-x\n",
        "\n",
        "+z"
      ]
    },
    {
      "cell_type": "markdown",
      "metadata": {
        "id": "Rj-SuGOGgyCu"
      },
      "source": [
        "##Cách làm"
      ]
    },
    {
      "cell_type": "markdown",
      "metadata": {
        "id": "cTR5htqAgznq"
      },
      "source": [
        "Bài toán đơn giản chỉ sử dụng if else, để ý một chút ta sẽ thấy rằng sẽ có 2 trường hợp như sau:\n",
        "\n",
        "Nếu đoạn dây cuối đang ở trục x, nếu đang là +x thì kết quả sẽ trùng với hướng của lệnh, nếu -x thì ngược kết quả là ngược với hướng của lệnh.\n",
        "\n",
        "Nếu đoạn dây cuối đang ở trục y hoặc z, thì nó chỉ bị thay đổi vị trí khi gặp lệnh uốn theo phương y hoặc phương z, và sẽ hướng sau khi bị uốn sẽ nằm ở trục x. Nếu lệnh cùng chiều với hướng thì kết quả sẽ ra -x, còn ngược chiều nhau thì kết quả sẽ là +x, ví dụ như đoạn dây đang hướng theo chiều +z, lệnh là -z thì sau đó đoạn dây sẽ hướng theo +x."
      ]
    },
    {
      "cell_type": "markdown",
      "metadata": {
        "id": "gUyTx3tOg3Je"
      },
      "source": [
        "##Code"
      ]
    },
    {
      "cell_type": "markdown",
      "metadata": {
        "id": "NTg9FwPHg6JY"
      },
      "source": [
        "C++"
      ]
    },
    {
      "cell_type": "code",
      "metadata": {
        "id": "TiWWc0sCg7Bt"
      },
      "source": [
        "#include<bits/stdc++.h>\n",
        "using namespace std ;\n",
        "int main()\n",
        "{   \n",
        "    ios_base::sync_with_stdio(0); cin.tie(0);\n",
        "    string s ;\n",
        "    int L ;\n",
        "    while(1) {\n",
        "        cin >> L ;\n",
        "        if (L == 0) break ;\n",
        "        int dir = 1;\n",
        "        char c = 'x' ;\n",
        "        for (int i = 1; i < L ; i++) {\n",
        "            cin >> s ;\n",
        "            if(s[0] == 'N') continue ;\n",
        "            int temp ;\n",
        "            if(s[0] == '+') temp = 1;\n",
        "            else temp = -1;\n",
        "            if (c =='x') {\n",
        "                dir = dir* temp;\n",
        "                c = s[1] ;\n",
        "            }\n",
        "            else if (c == 'y' && s[1] == 'y') {\n",
        "                dir = - dir* temp;\n",
        "                c = 'x' ;\n",
        "            }\n",
        "            else if (c == 'z' && s[1] == 'z') {\n",
        "                dir = - dir* temp;\n",
        "                c = 'x' ;\n",
        "            }\n",
        "        }\n",
        "        if (dir == 1) cout << '+' << c << '\\n' ;\n",
        "        else cout << '-' << c << '\\n' ;\n",
        "    }\n",
        "}"
      ],
      "execution_count": null,
      "outputs": []
    },
    {
      "cell_type": "markdown",
      "metadata": {
        "id": "rkBQihUpg_kw"
      },
      "source": [
        "Python"
      ]
    },
    {
      "cell_type": "code",
      "metadata": {
        "id": "W9KjbJXJhBPn"
      },
      "source": [
        "while True :\n",
        "  L = int(input()) \n",
        "  if L == 0 :\n",
        "    break \n",
        "  dir = 1\n",
        "  c = 'x' \n",
        "  bends = input().split()\n",
        "  for s in bends:\n",
        "    \n",
        "    if s[0] == 'N' :\n",
        "      continue \n",
        "    if s[0] == '+' :\n",
        "      temp = 1\n",
        "    else :\n",
        "      temp = -1\n",
        "    if (c == 'x') :\n",
        "      dir = dir * temp\n",
        "      c = s[1] \n",
        "    elif c == 'y' and s[1] == 'y' :\n",
        "      dir = - dir* temp\n",
        "      c = 'x' \n",
        "    elif c == 'z' and s[1] == 'z' :\n",
        "      dir = - dir* temp\n",
        "      c = 'x' \n",
        "  if dir == 1 :\n",
        "    print('+'+ c)\n",
        "   \n",
        "  else :\n",
        "    print('-' +c)"
      ],
      "execution_count": null,
      "outputs": []
    },
    {
      "cell_type": "markdown",
      "metadata": {
        "id": "mkGh5cu6eigl"
      },
      "source": [
        "#POI"
      ]
    },
    {
      "cell_type": "markdown",
      "metadata": {
        "id": "Qi9UcC5SekGC"
      },
      "source": [
        "##Tóm tắt đề bài"
      ]
    },
    {
      "cell_type": "markdown",
      "metadata": {
        "id": "cn0O0kY8emzj"
      },
      "source": [
        "Nguồn: IOI 2009 DAY1\n",
        "\n",
        "Có N thí sinh ($1 \\leq N \\leq 2000$) và T vấn đề ($1 \\leq T \\leq 2000$). Khi một thí sinh giải quyết được vấn đề thứ $i$ thì sẽ nhận được điểm số bằng số người không giải quyết được vấn đề thứ $i$. Thứ hạng của một người được sắp xếp theo điểm số, nếu điểm số bằng nhau thì sắp xếp theo số bài giải quyết được, nếu số bài bằng nhau thì sắp xếp theo số thứ tự.\n",
        "Cho số thứ tự của một người, hỏi người đó được bao nhiêu điểm và thứ tự bao nhiêu.\n",
        "\n",
        "Input\n",
        "\n",
        "Dòng đầu tiên nhập vào 2 số N, T, và P (Số thí sinh, số vấn đề, số thứ tự của người cần tính)\n",
        "\n",
        "Dòng thứ i trong N dòng tiếp theo mỗi dòng nhập vào T số, nếu số thứ j là 0 thì người thứ i không giải quyết được vấn đề thứ j, nếu bằng 1 thì ngược lại.\n",
        "\n",
        "Output\n",
        "\n",
        "Một dòng gồm 2 số cách nhau bởi dấu cách. Số đầu tiên là điểm của người thứ P, số thứ 2 là thứ hạng của ngươi thứ P\n",
        "\n",
        "\n",
        "    input\n",
        "5 3 2\n",
        "\n",
        "0 0 1\n",
        "\n",
        "1 1 0\n",
        "\n",
        "1 0 0\n",
        "\n",
        "1 1 0\n",
        "\n",
        "1 1 0\n",
        "\n",
        "    output\n",
        "\n",
        "3 2"
      ]
    },
    {
      "cell_type": "markdown",
      "metadata": {
        "id": "Iq--P9qVhU2X"
      },
      "source": [
        "##Cách làm"
      ]
    },
    {
      "cell_type": "markdown",
      "metadata": {
        "id": "nKupXBQdhXMX"
      },
      "source": [
        "Tính trước điểm số đạt được khi giải quyết được vấn đề thứ j để mỗi khi tính điểm của một người ở vấn đề thứ j thì chỉ mất O(1)\n",
        "\n",
        "Viết một hàm so sánh để thể hiện sự ưu tiên của các giá trị để có thể sắp xếp theo đúng như cách mà đề bài nêu. \n",
        "\n",
        "Tính điểm số thì chỉ cần duyệt là xong. Còn vấn đề tính rank thì dựa vào hàm so sánh ta có thể sử dụng hàm std::sort trong C++ để sắp xếp dễ dàng"
      ]
    },
    {
      "cell_type": "markdown",
      "metadata": {
        "id": "Z4jkKri3idej"
      },
      "source": [
        "##Code"
      ]
    },
    {
      "cell_type": "markdown",
      "metadata": {
        "id": "vqHSf5PSifTZ"
      },
      "source": [
        "C++"
      ]
    },
    {
      "cell_type": "code",
      "metadata": {
        "id": "akjREyGxigMr"
      },
      "source": [
        "#include<bits/stdc++.h>\n",
        "\n",
        "using namespace std;\n",
        "\n",
        "#define MAX_N 2000\n",
        "#define MAX_T 2000\n",
        "\n",
        "vector<int> solved[MAX_N];\n",
        "int points[MAX_T];\n",
        "int score[MAX_N];\n",
        "\n",
        "\n",
        "bool poiLess(int x, int y)\n",
        "{\n",
        "    if (score[x] > score[y])\n",
        "        return true;\n",
        "    else if (score[x] == score[y])\n",
        "    {\n",
        "        if (solved[x].size() > solved[y].size())\n",
        "            return true;\n",
        "        else if (solved[x].size() == solved[y].size())\n",
        "            return x < y;\n",
        "        else\n",
        "            return false;\n",
        "    }\n",
        "    else\n",
        "        return false;\n",
        "}\n",
        "\n",
        "int main()\n",
        "{\n",
        "    ios_base::sync_with_stdio(0); cin.tie(0);\n",
        "    int n, t, p;\n",
        "\n",
        "    cin >> n >> t >> p;\n",
        "    p--;\n",
        "\n",
        "    memset(points, 0, sizeof(points));\n",
        "\n",
        "    for (int i = 0; i < n; i++)\n",
        "    {\n",
        "        solved[i].reserve(n);\n",
        "        int x;\n",
        "        for (int j = 0; j < t; j++)\n",
        "        {\n",
        "            cin >> x;\n",
        "            if (x == 1)\n",
        "                solved[i].push_back(j);\n",
        "            else\n",
        "                points[j]++;\n",
        "        }\n",
        "    }\n",
        "\n",
        "    \n",
        "    vector<int> sortedIds;\n",
        "    sortedIds.reserve(n);\n",
        "    for (int i = 0; i < n; i++)\n",
        "    {\n",
        "        score[i] = 0;\n",
        "        for (unsigned int j = 0; j < solved[i].size(); j++)\n",
        "            score[i] += points[solved[i][j]];\n",
        "        sortedIds.push_back(i);\n",
        "    }\n",
        "\n",
        "    sort(sortedIds.begin(), sortedIds.end(), poiLess);\n",
        "\n",
        "    for (int i = 0; i < n; i++)\n",
        "        if (sortedIds[i] == p)\n",
        "        {\n",
        "            cout << score[p] << \" \" << (i + 1) << endl;\n",
        "            return 0;\n",
        "        }\n",
        "}\n"
      ],
      "execution_count": null,
      "outputs": []
    },
    {
      "cell_type": "markdown",
      "metadata": {
        "id": "raxADi4VjJjS"
      },
      "source": [
        "Python"
      ]
    },
    {
      "cell_type": "code",
      "metadata": {
        "colab": {
          "base_uri": "https://localhost:8080/"
        },
        "id": "MLlvrDq9jKu4",
        "outputId": "f5cdb191-eb40-4a1b-d248-a9881d3e4063"
      },
      "source": [
        "n, t, p = map(int, input().split())\n",
        "p -= 1\n",
        "\n",
        "point = [int(0) for i in range(2000)]\n",
        "a = [[int(0) for i in range(2000)] for j in range(2000)]\n",
        "score = [int(0) for i in range(2000)]\n",
        "solved = [int(0) for i in range(2000)]\n",
        "sortedIds = []\n",
        "\n",
        "for i in range(n):\n",
        "    a[i][0:t] = map(int, input().split())\n",
        "\n",
        "for i in range(n):\n",
        "    for j in range(t):\n",
        "        if a[i][j] == 0:\n",
        "            point[j] += 1\n",
        "\n",
        "for i in range(n):\n",
        "    score[i] = 0\n",
        "    for j in range(t):\n",
        "        if a[i][j] == 1:\n",
        "            score[i] += point[j]\n",
        "            solved[i] += 1\n",
        "    sortedIds.append((-score[i], -solved[i], i))\n",
        "\n",
        "\n",
        "\n",
        "import operator\n",
        "sortedIds = sorted(sortedIds, key=operator.itemgetter(0, 1, 2))\n",
        "\n",
        "\n",
        "for i in range(n):\n",
        "    for j in sortedIds[i]:\n",
        "        if sortedIds[i][2] == p:\n",
        "            print(score[p], (i + 1))\n",
        "        break;\n",
        "    \n",
        "    "
      ],
      "execution_count": null,
      "outputs": [
        {
          "output_type": "stream",
          "text": [
            "5 3 2\n",
            "0 0 1\n",
            "1 1 0\n",
            "1 0 0\n",
            "1 1 0\n",
            "1 1 0\n",
            "3 2\n"
          ],
          "name": "stdout"
        }
      ]
    }
  ]
}